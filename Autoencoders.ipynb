{
  "nbformat": 4,
  "nbformat_minor": 0,
  "metadata": {
    "orig_nbformat": 2,
    "deepnote": {
      "is_reactive": false
    },
    "deepnote_notebook_id": "5f77df1c-dbc3-412f-8931-de90f0251ec8",
    "deepnote_execution_queue": [],
    "colab": {
      "provenance": []
    },
    "language_info": {
      "name": "python"
    },
    "kernelspec": {
      "name": "python3",
      "display_name": "Python 3"
    },
    "accelerator": "GPU",
    "widgets": {
      "application/vnd.jupyter.widget-state+json": {
        "82105020d63d4fad9d7fa99a06ce7fec": {
          "model_module": "@jupyter-widgets/controls",
          "model_name": "HBoxModel",
          "state": {
            "_view_name": "HBoxView",
            "_dom_classes": [],
            "_model_name": "HBoxModel",
            "_view_module": "@jupyter-widgets/controls",
            "_model_module_version": "1.5.0",
            "_view_count": null,
            "_view_module_version": "1.5.0",
            "box_style": "",
            "layout": "IPY_MODEL_7797c1eeff5c4ec7a9d9cf9366b68615",
            "_model_module": "@jupyter-widgets/controls",
            "children": [
              "IPY_MODEL_35b99489e3a94ef692780a6e09a767a5",
              "IPY_MODEL_e2cf4ab9ac3647b1a780600d0a30f59e"
            ]
          },
          "model_module_version": "1.5.0"
        },
        "7797c1eeff5c4ec7a9d9cf9366b68615": {
          "model_module": "@jupyter-widgets/base",
          "model_name": "LayoutModel",
          "state": {
            "_view_name": "LayoutView",
            "grid_template_rows": null,
            "right": null,
            "justify_content": null,
            "_view_module": "@jupyter-widgets/base",
            "overflow": null,
            "_model_module_version": "1.2.0",
            "_view_count": null,
            "flex_flow": null,
            "width": null,
            "min_width": null,
            "border": null,
            "align_items": null,
            "bottom": null,
            "_model_module": "@jupyter-widgets/base",
            "top": null,
            "grid_column": null,
            "overflow_y": null,
            "overflow_x": null,
            "grid_auto_flow": null,
            "grid_area": null,
            "grid_template_columns": null,
            "flex": null,
            "_model_name": "LayoutModel",
            "justify_items": null,
            "grid_row": null,
            "max_height": null,
            "align_content": null,
            "visibility": null,
            "align_self": null,
            "height": null,
            "min_height": null,
            "padding": null,
            "grid_auto_rows": null,
            "grid_gap": null,
            "max_width": null,
            "order": null,
            "_view_module_version": "1.2.0",
            "grid_template_areas": null,
            "object_position": null,
            "object_fit": null,
            "grid_auto_columns": null,
            "margin": null,
            "display": null,
            "left": null
          },
          "model_module_version": "1.2.0"
        },
        "35b99489e3a94ef692780a6e09a767a5": {
          "model_module": "@jupyter-widgets/controls",
          "model_name": "FloatProgressModel",
          "state": {
            "_view_name": "ProgressView",
            "style": "IPY_MODEL_df43289c29694e13868d23886762bbbd",
            "_dom_classes": [],
            "description": "100%",
            "_model_name": "FloatProgressModel",
            "bar_style": "success",
            "max": 20,
            "_view_module": "@jupyter-widgets/controls",
            "_model_module_version": "1.5.0",
            "value": 20,
            "_view_count": null,
            "_view_module_version": "1.5.0",
            "orientation": "horizontal",
            "min": 0,
            "description_tooltip": null,
            "_model_module": "@jupyter-widgets/controls",
            "layout": "IPY_MODEL_807d3beb40284ceab0f7bcd722b63fee"
          },
          "model_module_version": "1.5.0"
        },
        "e2cf4ab9ac3647b1a780600d0a30f59e": {
          "model_module": "@jupyter-widgets/controls",
          "model_name": "HTMLModel",
          "state": {
            "_view_name": "HTMLView",
            "style": "IPY_MODEL_00bf10eb9df441fdb3e84edeebd69b9c",
            "_dom_classes": [],
            "description": "",
            "_model_name": "HTMLModel",
            "placeholder": "​",
            "_view_module": "@jupyter-widgets/controls",
            "_model_module_version": "1.5.0",
            "value": " 20/20 [03:58&lt;00:00, 11.93s/it]",
            "_view_count": null,
            "_view_module_version": "1.5.0",
            "description_tooltip": null,
            "_model_module": "@jupyter-widgets/controls",
            "layout": "IPY_MODEL_6846a750278b4d73a213bb821cea1c18"
          },
          "model_module_version": "1.5.0"
        },
        "df43289c29694e13868d23886762bbbd": {
          "model_module": "@jupyter-widgets/controls",
          "model_name": "ProgressStyleModel",
          "state": {
            "_view_name": "StyleView",
            "_model_name": "ProgressStyleModel",
            "description_width": "initial",
            "_view_module": "@jupyter-widgets/base",
            "_model_module_version": "1.5.0",
            "_view_count": null,
            "_view_module_version": "1.2.0",
            "bar_color": null,
            "_model_module": "@jupyter-widgets/controls"
          },
          "model_module_version": "1.5.0"
        },
        "807d3beb40284ceab0f7bcd722b63fee": {
          "model_module": "@jupyter-widgets/base",
          "model_name": "LayoutModel",
          "state": {
            "_view_name": "LayoutView",
            "grid_template_rows": null,
            "right": null,
            "justify_content": null,
            "_view_module": "@jupyter-widgets/base",
            "overflow": null,
            "_model_module_version": "1.2.0",
            "_view_count": null,
            "flex_flow": null,
            "width": null,
            "min_width": null,
            "border": null,
            "align_items": null,
            "bottom": null,
            "_model_module": "@jupyter-widgets/base",
            "top": null,
            "grid_column": null,
            "overflow_y": null,
            "overflow_x": null,
            "grid_auto_flow": null,
            "grid_area": null,
            "grid_template_columns": null,
            "flex": null,
            "_model_name": "LayoutModel",
            "justify_items": null,
            "grid_row": null,
            "max_height": null,
            "align_content": null,
            "visibility": null,
            "align_self": null,
            "height": null,
            "min_height": null,
            "padding": null,
            "grid_auto_rows": null,
            "grid_gap": null,
            "max_width": null,
            "order": null,
            "_view_module_version": "1.2.0",
            "grid_template_areas": null,
            "object_position": null,
            "object_fit": null,
            "grid_auto_columns": null,
            "margin": null,
            "display": null,
            "left": null
          },
          "model_module_version": "1.2.0"
        },
        "00bf10eb9df441fdb3e84edeebd69b9c": {
          "model_module": "@jupyter-widgets/controls",
          "model_name": "DescriptionStyleModel",
          "state": {
            "_view_name": "StyleView",
            "_model_name": "DescriptionStyleModel",
            "description_width": "",
            "_view_module": "@jupyter-widgets/base",
            "_model_module_version": "1.5.0",
            "_view_count": null,
            "_view_module_version": "1.2.0",
            "_model_module": "@jupyter-widgets/controls"
          },
          "model_module_version": "1.5.0"
        },
        "6846a750278b4d73a213bb821cea1c18": {
          "model_module": "@jupyter-widgets/base",
          "model_name": "LayoutModel",
          "state": {
            "_view_name": "LayoutView",
            "grid_template_rows": null,
            "right": null,
            "justify_content": null,
            "_view_module": "@jupyter-widgets/base",
            "overflow": null,
            "_model_module_version": "1.2.0",
            "_view_count": null,
            "flex_flow": null,
            "width": null,
            "min_width": null,
            "border": null,
            "align_items": null,
            "bottom": null,
            "_model_module": "@jupyter-widgets/base",
            "top": null,
            "grid_column": null,
            "overflow_y": null,
            "overflow_x": null,
            "grid_auto_flow": null,
            "grid_area": null,
            "grid_template_columns": null,
            "flex": null,
            "_model_name": "LayoutModel",
            "justify_items": null,
            "grid_row": null,
            "max_height": null,
            "align_content": null,
            "visibility": null,
            "align_self": null,
            "height": null,
            "min_height": null,
            "padding": null,
            "grid_auto_rows": null,
            "grid_gap": null,
            "max_width": null,
            "order": null,
            "_view_module_version": "1.2.0",
            "grid_template_areas": null,
            "object_position": null,
            "object_fit": null,
            "grid_auto_columns": null,
            "margin": null,
            "display": null,
            "left": null
          },
          "model_module_version": "1.2.0"
        },
        "07e27702469a460a96750991bfcd47fc": {
          "model_module": "@jupyter-widgets/controls",
          "model_name": "HBoxModel",
          "state": {
            "_view_name": "HBoxView",
            "_dom_classes": [],
            "_model_name": "HBoxModel",
            "_view_module": "@jupyter-widgets/controls",
            "_model_module_version": "1.5.0",
            "_view_count": null,
            "_view_module_version": "1.5.0",
            "box_style": "",
            "layout": "IPY_MODEL_3713803018814391b69ed5dbb33c3618",
            "_model_module": "@jupyter-widgets/controls",
            "children": [
              "IPY_MODEL_c8566aedfdc14bfdb2b52dc08457903a",
              "IPY_MODEL_28fa226d18c94bf4b0512440f6d465ac"
            ]
          },
          "model_module_version": "1.5.0"
        },
        "3713803018814391b69ed5dbb33c3618": {
          "model_module": "@jupyter-widgets/base",
          "model_name": "LayoutModel",
          "state": {
            "_view_name": "LayoutView",
            "grid_template_rows": null,
            "right": null,
            "justify_content": null,
            "_view_module": "@jupyter-widgets/base",
            "overflow": null,
            "_model_module_version": "1.2.0",
            "_view_count": null,
            "flex_flow": null,
            "width": null,
            "min_width": null,
            "border": null,
            "align_items": null,
            "bottom": null,
            "_model_module": "@jupyter-widgets/base",
            "top": null,
            "grid_column": null,
            "overflow_y": null,
            "overflow_x": null,
            "grid_auto_flow": null,
            "grid_area": null,
            "grid_template_columns": null,
            "flex": null,
            "_model_name": "LayoutModel",
            "justify_items": null,
            "grid_row": null,
            "max_height": null,
            "align_content": null,
            "visibility": null,
            "align_self": null,
            "height": null,
            "min_height": null,
            "padding": null,
            "grid_auto_rows": null,
            "grid_gap": null,
            "max_width": null,
            "order": null,
            "_view_module_version": "1.2.0",
            "grid_template_areas": null,
            "object_position": null,
            "object_fit": null,
            "grid_auto_columns": null,
            "margin": null,
            "display": null,
            "left": null
          },
          "model_module_version": "1.2.0"
        },
        "c8566aedfdc14bfdb2b52dc08457903a": {
          "model_module": "@jupyter-widgets/controls",
          "model_name": "FloatProgressModel",
          "state": {
            "_view_name": "ProgressView",
            "style": "IPY_MODEL_38034927088942058fc6cdedd3500145",
            "_dom_classes": [],
            "description": "100%",
            "_model_name": "FloatProgressModel",
            "bar_style": "success",
            "max": 20,
            "_view_module": "@jupyter-widgets/controls",
            "_model_module_version": "1.5.0",
            "value": 20,
            "_view_count": null,
            "_view_module_version": "1.5.0",
            "orientation": "horizontal",
            "min": 0,
            "description_tooltip": null,
            "_model_module": "@jupyter-widgets/controls",
            "layout": "IPY_MODEL_ebddc0f7b29a47d5ab86cf895236f5cd"
          },
          "model_module_version": "1.5.0"
        },
        "28fa226d18c94bf4b0512440f6d465ac": {
          "model_module": "@jupyter-widgets/controls",
          "model_name": "HTMLModel",
          "state": {
            "_view_name": "HTMLView",
            "style": "IPY_MODEL_db6417635df44fea8ac623b14e24f5e6",
            "_dom_classes": [],
            "description": "",
            "_model_name": "HTMLModel",
            "placeholder": "​",
            "_view_module": "@jupyter-widgets/controls",
            "_model_module_version": "1.5.0",
            "value": " 20/20 [02:26&lt;00:00,  7.35s/it]",
            "_view_count": null,
            "_view_module_version": "1.5.0",
            "description_tooltip": null,
            "_model_module": "@jupyter-widgets/controls",
            "layout": "IPY_MODEL_6b576e4a345d4de29f349e459bf17d20"
          },
          "model_module_version": "1.5.0"
        },
        "38034927088942058fc6cdedd3500145": {
          "model_module": "@jupyter-widgets/controls",
          "model_name": "ProgressStyleModel",
          "state": {
            "_view_name": "StyleView",
            "_model_name": "ProgressStyleModel",
            "description_width": "initial",
            "_view_module": "@jupyter-widgets/base",
            "_model_module_version": "1.5.0",
            "_view_count": null,
            "_view_module_version": "1.2.0",
            "bar_color": null,
            "_model_module": "@jupyter-widgets/controls"
          },
          "model_module_version": "1.5.0"
        },
        "ebddc0f7b29a47d5ab86cf895236f5cd": {
          "model_module": "@jupyter-widgets/base",
          "model_name": "LayoutModel",
          "state": {
            "_view_name": "LayoutView",
            "grid_template_rows": null,
            "right": null,
            "justify_content": null,
            "_view_module": "@jupyter-widgets/base",
            "overflow": null,
            "_model_module_version": "1.2.0",
            "_view_count": null,
            "flex_flow": null,
            "width": null,
            "min_width": null,
            "border": null,
            "align_items": null,
            "bottom": null,
            "_model_module": "@jupyter-widgets/base",
            "top": null,
            "grid_column": null,
            "overflow_y": null,
            "overflow_x": null,
            "grid_auto_flow": null,
            "grid_area": null,
            "grid_template_columns": null,
            "flex": null,
            "_model_name": "LayoutModel",
            "justify_items": null,
            "grid_row": null,
            "max_height": null,
            "align_content": null,
            "visibility": null,
            "align_self": null,
            "height": null,
            "min_height": null,
            "padding": null,
            "grid_auto_rows": null,
            "grid_gap": null,
            "max_width": null,
            "order": null,
            "_view_module_version": "1.2.0",
            "grid_template_areas": null,
            "object_position": null,
            "object_fit": null,
            "grid_auto_columns": null,
            "margin": null,
            "display": null,
            "left": null
          },
          "model_module_version": "1.2.0"
        },
        "db6417635df44fea8ac623b14e24f5e6": {
          "model_module": "@jupyter-widgets/controls",
          "model_name": "DescriptionStyleModel",
          "state": {
            "_view_name": "StyleView",
            "_model_name": "DescriptionStyleModel",
            "description_width": "",
            "_view_module": "@jupyter-widgets/base",
            "_model_module_version": "1.5.0",
            "_view_count": null,
            "_view_module_version": "1.2.0",
            "_model_module": "@jupyter-widgets/controls"
          },
          "model_module_version": "1.5.0"
        },
        "6b576e4a345d4de29f349e459bf17d20": {
          "model_module": "@jupyter-widgets/base",
          "model_name": "LayoutModel",
          "state": {
            "_view_name": "LayoutView",
            "grid_template_rows": null,
            "right": null,
            "justify_content": null,
            "_view_module": "@jupyter-widgets/base",
            "overflow": null,
            "_model_module_version": "1.2.0",
            "_view_count": null,
            "flex_flow": null,
            "width": null,
            "min_width": null,
            "border": null,
            "align_items": null,
            "bottom": null,
            "_model_module": "@jupyter-widgets/base",
            "top": null,
            "grid_column": null,
            "overflow_y": null,
            "overflow_x": null,
            "grid_auto_flow": null,
            "grid_area": null,
            "grid_template_columns": null,
            "flex": null,
            "_model_name": "LayoutModel",
            "justify_items": null,
            "grid_row": null,
            "max_height": null,
            "align_content": null,
            "visibility": null,
            "align_self": null,
            "height": null,
            "min_height": null,
            "padding": null,
            "grid_auto_rows": null,
            "grid_gap": null,
            "max_width": null,
            "order": null,
            "_view_module_version": "1.2.0",
            "grid_template_areas": null,
            "object_position": null,
            "object_fit": null,
            "grid_auto_columns": null,
            "margin": null,
            "display": null,
            "left": null
          },
          "model_module_version": "1.2.0"
        }
      }
    }
  },
  "cells": [
    {
      "cell_type": "markdown",
      "metadata": {
        "id": "6nW-pGBxtows"
      },
      "source": [
        "# Deep Learning for Visual Recongintion\n",
        "\n",
        "## Implement an Autoencoder\n",
        "\n",
        "### Table of Content:\n",
        "\n",
        "*   Simple approach on creating encoder decoder and training them using Keras\n",
        "*   Create an Autoencoder using simple python functions and skitlearn\n",
        "*   A more general approach in Autonecoder using Pytorch\n",
        "*   Display result and some conclustions"
      ]
    },
    {
      "cell_type": "code",
      "metadata": {
        "tags": [],
        "cell_id": "00000-b6c553f7-94db-4ff6-bf8d-97190b822216",
        "deepnote_to_be_reexecuted": false,
        "source_hash": "c26f32b3",
        "execution_start": 1620596623724,
        "execution_millis": 3275,
        "output_cleared": true,
        "deepnote_cell_type": "code",
        "id": "IPFJBUYJqd3L"
      },
      "source": [
        "!pip install torch torchvision"
      ],
      "execution_count": null,
      "outputs": []
    },
    {
      "cell_type": "code",
      "metadata": {
        "tags": [],
        "cell_id": "00001-ae74f175-26b6-4a29-a079-a9825310e1bd",
        "deepnote_to_be_reexecuted": false,
        "source_hash": "681e86b0",
        "execution_start": 1620655653472,
        "execution_millis": 9646,
        "output_cleared": true,
        "deepnote_cell_type": "code",
        "id": "Ibvf7zgQqd3T"
      },
      "source": [
        "!pip install ipywidgets"
      ],
      "execution_count": null,
      "outputs": []
    },
    {
      "cell_type": "code",
      "metadata": {
        "tags": [],
        "cell_id": "00003-45a76fe3-fd85-469b-bb42-cc04877e22b6",
        "deepnote_to_be_reexecuted": false,
        "source_hash": "58de1d54",
        "execution_start": 1620656426824,
        "execution_millis": 59,
        "deepnote_cell_type": "code",
        "colab": {
          "base_uri": "https://localhost:8080/",
          "height": 36
        },
        "id": "DU99KnOkqd3V",
        "outputId": "d1005c31-cf3d-46fe-b0e7-08429ff830b0"
      },
      "source": [
        "torch.__version__"
      ],
      "execution_count": null,
      "outputs": [
        {
          "output_type": "execute_result",
          "data": {
            "application/vnd.google.colaboratory.intrinsic+json": {
              "type": "string"
            },
            "text/plain": [
              "'1.8.1+cu101'"
            ]
          },
          "metadata": {
            "tags": []
          },
          "execution_count": 2
        }
      ]
    },
    {
      "cell_type": "markdown",
      "metadata": {
        "id": "PxskjnATsL4z"
      },
      "source": [
        "## My first attempt to implement autoencoder structure :)"
      ]
    },
    {
      "cell_type": "code",
      "metadata": {
        "id": "Y_cqnmiZsLPo"
      },
      "source": [
        "import matplotlib.pyplot as plt\n",
        "import pandas as pd\n",
        "import numpy as np\n",
        "from __future__ import print_function\n",
        "from keras.models import Model\n",
        "from keras.layers import Dense, Input\n",
        "from keras.datasets import mnist\n",
        "from keras.optimizers import Adam"
      ],
      "execution_count": null,
      "outputs": []
    },
    {
      "cell_type": "code",
      "metadata": {
        "colab": {
          "base_uri": "https://localhost:8080/"
        },
        "id": "UvU1gtQpuxHz",
        "outputId": "083c0976-d21c-4bb0-9a33-d412c3ea82b2"
      },
      "source": [
        "(x_train, y_train), (x_test, y_test) = mnist.load_data()\n",
        "\n",
        "x_train = x_train.astype('float32') / 255.0\n",
        "x_test = x_test.astype('float32') / 255.0\n",
        "x_train = x_train.reshape((len(x_train), np.prod(x_train.shape[1:])))\n",
        "x_test = x_test.reshape((len(x_test), np.prod(x_test.shape[1:])))\n",
        "\n",
        "print(x_train.shape)\n",
        "print(x_test.shape)"
      ],
      "execution_count": null,
      "outputs": [
        {
          "output_type": "stream",
          "text": [
            "Downloading data from https://storage.googleapis.com/tensorflow/tf-keras-datasets/mnist.npz\n",
            "11493376/11490434 [==============================] - 0s 0us/step\n",
            "(60000, 784)\n",
            "(10000, 784)\n"
          ],
          "name": "stdout"
        }
      ]
    },
    {
      "cell_type": "code",
      "metadata": {
        "id": "Vz4q31gGu4z5"
      },
      "source": [
        "input_size = 784\n",
        "hidden_size_1 = 256\n",
        "hidden_size_2 = 128\n",
        "code_size = 32\n",
        "\n",
        "input_img = Input(shape=(input_size,))\n",
        "hidden_1 = Dense(hidden_size_1, activation='sigmoid')(input_img)\n",
        "hidden_2 = Dense(hidden_size_2, activation='sigmoid')(hidden_1)\n",
        "code = Dense(code_size, activation='sigmoid')(hidden_2)\n",
        "hidden_3 = Dense(hidden_size_2, activation='sigmoid')(code)\n",
        "hidden_4 = Dense(hidden_size_1, activation='sigmoid')(hidden_3)\n",
        "output_img = Dense(input_size, activation='sigmoid')(hidden_4)"
      ],
      "execution_count": null,
      "outputs": []
    },
    {
      "cell_type": "markdown",
      "metadata": {
        "id": "KD4ddIwewUvs"
      },
      "source": [
        "Training autoencoder using Mean Squared Error"
      ]
    },
    {
      "cell_type": "code",
      "metadata": {
        "colab": {
          "base_uri": "https://localhost:8080/"
        },
        "id": "R2OBZGuZvXyG",
        "outputId": "2ec02b81-9ad6-4225-9055-5d241c0e1a96"
      },
      "source": [
        "autoencoder = Model(input_img, output_img)\n",
        "autoencoder.compile(optimizer='adam', loss='mean_squared_error')\n",
        "autoencoder.fit(x_train, x_train, epochs=20)"
      ],
      "execution_count": null,
      "outputs": [
        {
          "output_type": "stream",
          "text": [
            "Epoch 1/20\n",
            "1875/1875 [==============================] - 6s 3ms/step - loss: 0.0669\n",
            "Epoch 2/20\n",
            "1875/1875 [==============================] - 5s 3ms/step - loss: 0.0461\n",
            "Epoch 3/20\n",
            "1875/1875 [==============================] - 5s 3ms/step - loss: 0.0365\n",
            "Epoch 4/20\n",
            "1875/1875 [==============================] - 5s 3ms/step - loss: 0.0326\n",
            "Epoch 5/20\n",
            "1875/1875 [==============================] - 6s 3ms/step - loss: 0.0301\n",
            "Epoch 6/20\n",
            "1875/1875 [==============================] - 5s 3ms/step - loss: 0.0274\n",
            "Epoch 7/20\n",
            "1875/1875 [==============================] - 5s 3ms/step - loss: 0.0260\n",
            "Epoch 8/20\n",
            "1875/1875 [==============================] - 5s 3ms/step - loss: 0.0247\n",
            "Epoch 9/20\n",
            "1875/1875 [==============================] - 5s 3ms/step - loss: 0.0234\n",
            "Epoch 10/20\n",
            "1875/1875 [==============================] - 5s 3ms/step - loss: 0.0218\n",
            "Epoch 11/20\n",
            "1875/1875 [==============================] - 5s 3ms/step - loss: 0.0206\n",
            "Epoch 12/20\n",
            "1875/1875 [==============================] - 5s 3ms/step - loss: 0.0195\n",
            "Epoch 13/20\n",
            "1875/1875 [==============================] - 5s 3ms/step - loss: 0.0187\n",
            "Epoch 14/20\n",
            "1875/1875 [==============================] - 5s 3ms/step - loss: 0.0179\n",
            "Epoch 15/20\n",
            "1875/1875 [==============================] - 5s 3ms/step - loss: 0.0171\n",
            "Epoch 16/20\n",
            "1875/1875 [==============================] - 5s 3ms/step - loss: 0.0164\n",
            "Epoch 17/20\n",
            "1875/1875 [==============================] - 5s 3ms/step - loss: 0.0156\n",
            "Epoch 18/20\n",
            "1875/1875 [==============================] - 5s 3ms/step - loss: 0.0151\n",
            "Epoch 19/20\n",
            "1875/1875 [==============================] - 5s 3ms/step - loss: 0.0146\n",
            "Epoch 20/20\n",
            "1875/1875 [==============================] - 5s 3ms/step - loss: 0.0142\n"
          ],
          "name": "stdout"
        },
        {
          "output_type": "execute_result",
          "data": {
            "text/plain": [
              "<tensorflow.python.keras.callbacks.History at 0x7f949f392690>"
            ]
          },
          "metadata": {
            "tags": []
          },
          "execution_count": 51
        }
      ]
    },
    {
      "cell_type": "code",
      "metadata": {
        "colab": {
          "base_uri": "https://localhost:8080/",
          "height": 265
        },
        "id": "XdQyJrflxZXf",
        "outputId": "51304230-94b8-4eb4-faf3-819fec38e15a"
      },
      "source": [
        "reconsturcted_images = autoencoder.predict(x_test)\n",
        "plt.figure(figsize=(10, 4))\n",
        "for i in range(5):\n",
        "  ax = plt.subplot(2, 5, i+1)\n",
        "  plt.imshow(x_test[i].reshape((28, 28)))\n",
        "  plt.gray()\n",
        "  ax.get_xaxis().set_visible(False)\n",
        "  ax.get_yaxis().set_visible(False)\n",
        "  if i == 2:\n",
        "    ax.set_title('Original Images')\n",
        "\n",
        "  # plot reconstruction\n",
        "  ax = plt.subplot(2, 5, i + 6)\n",
        "  plt.imshow(reconsturcted_images[i].reshape((28, 28)))\n",
        "  plt.gray()\n",
        "  ax.get_xaxis().set_visible(False)\n",
        "  ax.get_yaxis().set_visible(False)\n",
        "  if i == 2:\n",
        "    ax.set_title('Reconstructed Images')\n",
        "plt.show()\n"
      ],
      "execution_count": null,
      "outputs": [
        {
          "output_type": "display_data",
          "data": {
            "image/png": "[encoded data removed]",
            "text/plain": [
              "<Figure size 720x288 with 10 Axes>"
            ]
          },
          "metadata": {
            "tags": [],
            "needs_background": "light"
          }
        }
      ]
    },
    {
      "cell_type": "markdown",
      "metadata": {
        "id": "Cxx1pl8vwYr4"
      },
      "source": [
        "Training Autoencoder using Binary Cross Entropy\n"
      ]
    },
    {
      "cell_type": "code",
      "metadata": {
        "colab": {
          "base_uri": "https://localhost:8080/"
        },
        "id": "GMRyGb4XvWuA",
        "outputId": "00f3d2ba-09be-40c5-8940-fb94e6cfa777"
      },
      "source": [
        "autoencoder = Model(input_img, output_img)\n",
        "autoencoder.compile(optimizer='adam', loss='binary_crossentropy')\n",
        "autoencoder.fit(x_train, x_train, epochs=20)"
      ],
      "execution_count": null,
      "outputs": [
        {
          "output_type": "stream",
          "text": [
            "Epoch 1/20\n",
            "1875/1875 [==============================] - 6s 3ms/step - loss: 0.1057\n",
            "Epoch 2/20\n",
            "1875/1875 [==============================] - 6s 3ms/step - loss: 0.1033\n",
            "Epoch 3/20\n",
            "1875/1875 [==============================] - 6s 3ms/step - loss: 0.1018\n",
            "Epoch 4/20\n",
            "1875/1875 [==============================] - 6s 3ms/step - loss: 0.1001\n",
            "Epoch 5/20\n",
            "1875/1875 [==============================] - 6s 3ms/step - loss: 0.0989\n",
            "Epoch 6/20\n",
            "1875/1875 [==============================] - 6s 3ms/step - loss: 0.0977\n",
            "Epoch 7/20\n",
            "1875/1875 [==============================] - 6s 3ms/step - loss: 0.0965\n",
            "Epoch 8/20\n",
            "1875/1875 [==============================] - 6s 3ms/step - loss: 0.0954\n",
            "Epoch 9/20\n",
            "1875/1875 [==============================] - 6s 3ms/step - loss: 0.0942\n",
            "Epoch 10/20\n",
            "1875/1875 [==============================] - 6s 3ms/step - loss: 0.0934\n",
            "Epoch 11/20\n",
            "1875/1875 [==============================] - 6s 3ms/step - loss: 0.0922\n",
            "Epoch 12/20\n",
            "1875/1875 [==============================] - 6s 3ms/step - loss: 0.0916\n",
            "Epoch 13/20\n",
            "1875/1875 [==============================] - 6s 3ms/step - loss: 0.0907\n",
            "Epoch 14/20\n",
            "1875/1875 [==============================] - 6s 3ms/step - loss: 0.0901\n",
            "Epoch 15/20\n",
            "1875/1875 [==============================] - 6s 3ms/step - loss: 0.0894\n",
            "Epoch 16/20\n",
            "1875/1875 [==============================] - 6s 3ms/step - loss: 0.0888\n",
            "Epoch 17/20\n",
            "1875/1875 [==============================] - 6s 3ms/step - loss: 0.0884\n",
            "Epoch 18/20\n",
            "1875/1875 [==============================] - 6s 3ms/step - loss: 0.0877\n",
            "Epoch 19/20\n",
            "1875/1875 [==============================] - 6s 3ms/step - loss: 0.0873\n",
            "Epoch 20/20\n",
            "1875/1875 [==============================] - 6s 3ms/step - loss: 0.0869\n"
          ],
          "name": "stdout"
        },
        {
          "output_type": "execute_result",
          "data": {
            "text/plain": [
              "<tensorflow.python.keras.callbacks.History at 0x7f94f03ab5d0>"
            ]
          },
          "metadata": {
            "tags": []
          },
          "execution_count": 54
        }
      ]
    },
    {
      "cell_type": "code",
      "metadata": {
        "colab": {
          "base_uri": "https://localhost:8080/",
          "height": 265
        },
        "id": "4-75_CF9yCsH",
        "outputId": "e40d1349-5d3d-4568-f667-1d796f90c03a"
      },
      "source": [
        "reconsturcted_images = autoencoder.predict(x_test)\n",
        "plt.figure(figsize=(10, 4))\n",
        "for i in range(5):\n",
        "  ax = plt.subplot(2, 5, i+1)\n",
        "  plt.imshow(x_test[i].reshape((28, 28)))\n",
        "  plt.gray()\n",
        "  ax.get_xaxis().set_visible(False)\n",
        "  ax.get_yaxis().set_visible(False)\n",
        "  if i == 3:\n",
        "    ax.set_title('Original Images')\n",
        "\n",
        "  # plot reconstruction\n",
        "  ax = plt.subplot(2, 5, i + 6)\n",
        "  plt.imshow(reconsturcted_images[i].reshape((28, 28)))\n",
        "  plt.gray()\n",
        "  ax.get_xaxis().set_visible(False)\n",
        "  ax.get_yaxis().set_visible(False)\n",
        "  if i == 3:\n",
        "    ax.set_title('Reconstructed Images')\n",
        "plt.show()\n"
      ],
      "execution_count": null,
      "outputs": [
        {
          "output_type": "display_data",
          "data": {
            "image/png": "[encoded data removed]",
            "text/plain": [
              "<Figure size 720x288 with 10 Axes>"
            ]
          },
          "metadata": {
            "tags": [],
            "needs_background": "light"
          }
        }
      ]
    },
    {
      "cell_type": "markdown",
      "metadata": {
        "id": "GekWSYJ-1OAl"
      },
      "source": [
        "Well judging from the reconstructed images they seems pretty similar. One way to see the difference might be to compute a loss function like Least Squared Error between two images and to see the difference. This is like substracting every pixel in the original image from every pixel in reconstructed image and then sum the square of each difference. The model with smallest error value is the best one. But this requires some extra efforts."
      ]
    },
    {
      "cell_type": "markdown",
      "metadata": {
        "id": "tY0Q2ynMfS0p"
      },
      "source": [
        "## Autoencoder implemented by using sklearn packages."
      ]
    },
    {
      "cell_type": "code",
      "metadata": {
        "id": "p20hfunzkWcO"
      },
      "source": [
        "import numpy as np\n",
        "import matplotlib.pyplot as plt\n",
        "from sklearn.neural_network import MLPRegressor\n",
        "from sklearn.metrics import accuracy_score"
      ],
      "execution_count": null,
      "outputs": []
    },
    {
      "cell_type": "code",
      "metadata": {
        "colab": {
          "base_uri": "https://localhost:8080/"
        },
        "id": "UpT-6OmTpu0q",
        "outputId": "31e88279-67e3-4973-a285-b41c3724cace"
      },
      "source": [
        "train_x = np.load('./data/mnist_train_images.npy')\n",
        "train_y = np.load('./data/mnist_train_labels.npy')\n",
        "test_x = np.load('./data/mnist_test_images.npy')\n",
        "test_y = np.load('./data/mnist_test_labels.npy')\n",
        "\n",
        "n_train = train_x.shape[0]\n",
        "n_test = test_x.shape[0]\n",
        "\n",
        "print (\"The number of training images : {}, shape : {}\".format(n_train, train_x.shape))\n",
        "print (\"The number of testing images : {}, shape : {}\".format(n_test, test_x.shape))"
      ],
      "execution_count": null,
      "outputs": [
        {
          "output_type": "stream",
          "text": [
            "The number of training images : 16583, shape : (16583, 784)\n",
            "The number of testing images : 2985, shape : (2985, 784)\n"
          ],
          "name": "stdout"
        }
      ]
    },
    {
      "cell_type": "code",
      "metadata": {
        "colab": {
          "base_uri": "https://localhost:8080/",
          "height": 377
        },
        "id": "70et4yYYqZoR",
        "outputId": "5b091f61-ffb0-42d5-d7f1-f7af61131c3d"
      },
      "source": [
        "idx = np.random.randint(train_x.shape[0])\n",
        "img = train_x[idx].reshape(28,28)\n",
        "\n",
        "plt.figure(figsize = (6,6))\n",
        "plt.imshow(img,'gray')\n",
        "plt.title(\"Label : {}\".format(np.argmax(train_y[idx,:])))\n",
        "plt.xticks([])\n",
        "plt.yticks([])\n",
        "plt.show()"
      ],
      "execution_count": null,
      "outputs": [
        {
          "output_type": "display_data",
          "data": {
            "image/png": "[encoded data removed]",
            "text/plain": [
              "<Figure size 432x432 with 1 Axes>"
            ]
          },
          "metadata": {
            "tags": []
          }
        }
      ]
    },
    {
      "cell_type": "code",
      "metadata": {
        "id": "eB7TeIkZqdeC"
      },
      "source": [
        "n_input = 28*28\n",
        "\n",
        "# Encoder structure\n",
        "n_encoder1 = 256\n",
        "n_encoder2 = 128\n",
        "n_latent = 2\n",
        "# Decoder structure\n",
        "n_decoder2 = 128\n",
        "n_decoder1 = 256\n",
        "\n"
      ],
      "execution_count": null,
      "outputs": []
    },
    {
      "cell_type": "code",
      "metadata": {
        "id": "-FO8OUSGqrqL"
      },
      "source": [
        "reg = MLPRegressor(hidden_layer_sizes = (n_encoder1, n_encoder2, n_latent, n_decoder2, n_decoder1),\n",
        "                   activation = 'tanh',\n",
        "                   solver = 'adam',\n",
        "                   learning_rate_init = 0.0001,\n",
        "                   max_iter = 20,\n",
        "                   tol = 0.0000001,\n",
        "                   verbose = True)"
      ],
      "execution_count": null,
      "outputs": []
    },
    {
      "cell_type": "code",
      "metadata": {
        "colab": {
          "base_uri": "https://localhost:8080/"
        },
        "id": "edg5hv3Vq3fl",
        "outputId": "b8328049-ea12-4a35-95ca-c4d04f0127e1"
      },
      "source": [
        "reg.fit(train_x, train_x)"
      ],
      "execution_count": null,
      "outputs": [
        {
          "output_type": "stream",
          "text": [
            "Iteration 1, loss = 0.03849309\n",
            "Iteration 2, loss = 0.02736002\n",
            "Iteration 3, loss = 0.02404814\n",
            "Iteration 4, loss = 0.02322506\n",
            "Iteration 5, loss = 0.02283553\n",
            "Iteration 6, loss = 0.02253432\n",
            "Iteration 7, loss = 0.02235350\n",
            "Iteration 8, loss = 0.02225753\n",
            "Iteration 9, loss = 0.02218298\n",
            "Iteration 10, loss = 0.02210321\n",
            "Iteration 11, loss = 0.02202472\n",
            "Iteration 12, loss = 0.02196074\n",
            "Iteration 13, loss = 0.02190800\n",
            "Iteration 14, loss = 0.02187504\n",
            "Iteration 15, loss = 0.02185654\n",
            "Iteration 16, loss = 0.02184292\n",
            "Iteration 17, loss = 0.02183166\n",
            "Iteration 18, loss = 0.02182700\n",
            "Iteration 19, loss = 0.02181920\n",
            "Iteration 20, loss = 0.02181277\n"
          ],
          "name": "stdout"
        },
        {
          "output_type": "stream",
          "text": [
            "/usr/local/lib/python3.7/dist-packages/sklearn/neural_network/_multilayer_perceptron.py:571: ConvergenceWarning: Stochastic Optimizer: Maximum iterations (20) reached and the optimization hasn't converged yet.\n",
            "  % self.max_iter, ConvergenceWarning)\n"
          ],
          "name": "stderr"
        },
        {
          "output_type": "execute_result",
          "data": {
            "text/plain": [
              "MLPRegressor(activation='tanh', alpha=0.0001, batch_size='auto', beta_1=0.9,\n",
              "             beta_2=0.999, early_stopping=False, epsilon=1e-08,\n",
              "             hidden_layer_sizes=(256, 128, 2, 128, 256),\n",
              "             learning_rate='constant', learning_rate_init=0.0001, max_fun=15000,\n",
              "             max_iter=20, momentum=0.9, n_iter_no_change=10,\n",
              "             nesterovs_momentum=True, power_t=0.5, random_state=None,\n",
              "             shuffle=True, solver='adam', tol=1e-07, validation_fraction=0.1,\n",
              "             verbose=True, warm_start=False)"
            ]
          },
          "metadata": {
            "tags": []
          },
          "execution_count": 23
        }
      ]
    },
    {
      "cell_type": "markdown",
      "metadata": {
        "id": "Egy498os5W9d"
      },
      "source": [
        "Display the reconstructed image"
      ]
    },
    {
      "cell_type": "code",
      "metadata": {
        "colab": {
          "base_uri": "https://localhost:8080/",
          "height": 306
        },
        "id": "eylEyi20rWzL",
        "outputId": "d779be54-2848-4aa2-c135-3fffc5216f02"
      },
      "source": [
        "idx = np.random.randint(test_x.shape[0])\n",
        "x_reconst = reg.predict(test_x[idx].reshape(-1,784))\n",
        "\n",
        "plt.figure(figsize = (10,8))\n",
        "plt.subplot(1,2,1)\n",
        "plt.imshow(test_x[idx].reshape(28,28), 'gray')\n",
        "plt.title('Imput Image', fontsize = 15)\n",
        "plt.xticks([])\n",
        "plt.yticks([])\n",
        "plt.subplot(1,2,2)\n",
        "plt.imshow(x_reconst.reshape(28,28), 'gray')\n",
        "plt.title('Reconstructed Image', fontsize = 15)\n",
        "plt.xticks([])\n",
        "plt.yticks([])\n",
        "plt.show()"
      ],
      "execution_count": null,
      "outputs": [
        {
          "output_type": "display_data",
          "data": {
            "image/png": "[encoded data removed]",
            "text/plain": [
              "<Figure size 720x576 with 2 Axes>"
            ]
          },
          "metadata": {
            "tags": []
          }
        }
      ]
    },
    {
      "cell_type": "markdown",
      "metadata": {
        "id": "ntEQ6fdq5azS"
      },
      "source": [
        "Reference: [\n",
        "By Prof. Seungchul Lee 15-Autoencoder](https://i-systems.github.io/teaching/ML/iNotes/15_Autoencoder.html)"
      ]
    },
    {
      "cell_type": "markdown",
      "metadata": {
        "id": "Sx5JTjVvd1TG"
      },
      "source": [
        "## This is Auto encoder class using pytorch."
      ]
    },
    {
      "cell_type": "code",
      "metadata": {
        "tags": [],
        "cell_id": "00001-91dc1024-455e-4c8f-aaf0-d9a783822cb1",
        "deepnote_to_be_reexecuted": false,
        "source_hash": "a1d963ba",
        "execution_start": 1620655675077,
        "execution_millis": 2,
        "deepnote_cell_type": "code",
        "id": "jYlOJCoMqd3U"
      },
      "source": [
        "import torch\n",
        "import torchvision\n",
        "import torchvision.datasets as datasets\n",
        "from ipywidgets import IntProgress\n",
        "from tqdm.notebook import tqdm"
      ],
      "execution_count": null,
      "outputs": []
    },
    {
      "cell_type": "code",
      "metadata": {
        "tags": [],
        "cell_id": "00001-a6c3ce8c-320e-4ef6-b033-75490e51e819",
        "deepnote_to_be_reexecuted": false,
        "source_hash": "7fa9f28b",
        "execution_start": 1620655259481,
        "execution_millis": 37,
        "deepnote_cell_type": "code",
        "id": "4b8pdoeZqd3X"
      },
      "source": [
        "class AE(torch.nn.Module):\n",
        "    def __init__(self, **kwargs):\n",
        "        super().__init__()\n",
        "        self.encoder_hidden_layer = torch.nn.Linear(\n",
        "            in_features=kwargs[\"input_shape\"], out_features=256\n",
        "        )\n",
        "        self.encoder_output_layer = torch.nn.Linear(\n",
        "            in_features=256, out_features=128\n",
        "        )\n",
        "        self.decoder_hidden_layer = torch.nn.Linear(\n",
        "            in_features=128, out_features=256\n",
        "        )\n",
        "        self.decoder_output_layer = torch.nn.Linear(\n",
        "            in_features=256, out_features=kwargs[\"input_shape\"]\n",
        "        )\n",
        "\n",
        "    def forward(self, features):\n",
        "        activation = self.encoder_hidden_layer(features)\n",
        "        activation = torch.sigmoid(activation)\n",
        "        code = self.encoder_output_layer(activation)\n",
        "        code = torch.sigmoid(code)\n",
        "        activation = self.decoder_hidden_layer(code)\n",
        "        activation = torch.sigmoid(activation)\n",
        "        activation = self.decoder_output_layer(activation)\n",
        "        reconstructed = torch.sigmoid(activation)\n",
        "        return reconstructed"
      ],
      "execution_count": null,
      "outputs": []
    },
    {
      "cell_type": "markdown",
      "metadata": {
        "id": "Yban6MYF5TbI"
      },
      "source": [
        "Load the data"
      ]
    },
    {
      "cell_type": "code",
      "metadata": {
        "tags": [],
        "cell_id": "00003-6f1472ba-ff51-4262-ba31-6b1c41632a74",
        "deepnote_to_be_reexecuted": false,
        "source_hash": "54af3f0",
        "execution_start": 1620655678921,
        "execution_millis": 441,
        "deepnote_cell_type": "code",
        "id": "PAWuMkZOqd3Y"
      },
      "source": [
        "transform = torchvision.transforms.Compose([torchvision.transforms.ToTensor()])\n",
        "\n",
        "train_dataset = train_dataset = datasets.MNIST(root='./data', train=True, download=True, transform=transform)\n",
        "\n",
        "test_dataset = datasets.MNIST(root='./data', train=False, download=True, transform=transform)\n",
        "\n",
        "train_loader = torch.utils.data.DataLoader(\n",
        "    train_dataset, batch_size=128, shuffle=True, num_workers=4, pin_memory=True\n",
        ")\n",
        "\n",
        "test_loader = torch.utils.data.DataLoader(\n",
        "    test_dataset, batch_size=32, shuffle=False, num_workers=4\n",
        ")"
      ],
      "execution_count": null,
      "outputs": []
    },
    {
      "cell_type": "code",
      "metadata": {
        "id": "WxnRTleV6PmX"
      },
      "source": [
        "#  use gpu if available\n",
        "device = torch.device(\"cuda\" if torch.cuda.is_available() else \"cpu\")\n",
        "\n",
        "# create a model from `AE` autoencoder class\n",
        "# load it to the specified device, either gpu or cpu\n",
        "model = AE(input_shape=784).to(device)\n",
        "\n",
        "# Adam optimizer with learning rate 1e-3\n",
        "optimizer = torch.optim.Adam(model.parameters(), lr=1e-3)\n",
        "\n",
        "def train_autoencoder(model, optimizer, n, loss):\n",
        "  if loss == 'mse':\n",
        "    # mean-squared error loss\n",
        "    criterion = torch.nn.MSELoss()\n",
        "  if loss == 'bce':\n",
        "    # binary-cross-entropy error loss\n",
        "    criterion = torch.nn.BCELoss()\n",
        "\n",
        "  for epoch in tqdm(range(n)):\n",
        "    loss = 0\n",
        "    for batch_features, _ in train_loader:\n",
        "        # reshape mini-batch data to [N, 784] matrix\n",
        "        # load it to the active device\n",
        "        batch_features = batch_features.view(-1, 784).to(device)\n",
        "\n",
        "        # reset the gradients back to zero\n",
        "        # PyTorch accumulates gradients on subsequent backward passes\n",
        "        optimizer.zero_grad()\n",
        "\n",
        "        # compute reconstructions\n",
        "        outputs = model(batch_features)\n",
        "\n",
        "        # compute training reconstruction loss\n",
        "        train_loss = criterion(outputs, batch_features)\n",
        "\n",
        "        # compute accumulated gradients\n",
        "        train_loss.backward()\n",
        "\n",
        "        # perform parameter update based on current gradients\n",
        "        optimizer.step()\n",
        "\n",
        "        # add the mini-batch training loss to epoch loss\n",
        "        loss += train_loss.item()\n",
        "\n",
        "    # compute the epoch training loss\n",
        "    loss = loss / len(train_loader)\n",
        "\n",
        "    # display the epoch training loss\n",
        "    print(\"epoch : {}/{}, loss = {:.6f}\".format(epoch + 1, 20, loss))"
      ],
      "execution_count": null,
      "outputs": []
    },
    {
      "cell_type": "markdown",
      "metadata": {
        "id": "EwAJs20Z5P04"
      },
      "source": [
        "Using MSE to traing the autoencoder model"
      ]
    },
    {
      "cell_type": "code",
      "metadata": {
        "colab": {
          "base_uri": "https://localhost:8080/",
          "height": 491,
          "referenced_widgets": [
            "82105020d63d4fad9d7fa99a06ce7fec",
            "7797c1eeff5c4ec7a9d9cf9366b68615",
            "35b99489e3a94ef692780a6e09a767a5",
            "e2cf4ab9ac3647b1a780600d0a30f59e",
            "df43289c29694e13868d23886762bbbd",
            "807d3beb40284ceab0f7bcd722b63fee",
            "00bf10eb9df441fdb3e84edeebd69b9c",
            "6846a750278b4d73a213bb821cea1c18"
          ]
        },
        "id": "-fTbAKyj9NHv",
        "outputId": "1410ae5d-34da-4a2f-a503-53131b62d24c"
      },
      "source": [
        "train_autoencoder(model, optimizer, 20, 'mse')"
      ],
      "execution_count": null,
      "outputs": [
        {
          "output_type": "display_data",
          "data": {
            "application/vnd.jupyter.widget-view+json": {
              "model_id": "82105020d63d4fad9d7fa99a06ce7fec",
              "version_minor": 0,
              "version_major": 2
            },
            "text/plain": [
              "HBox(children=(FloatProgress(value=0.0, max=20.0), HTML(value='')))"
            ]
          },
          "metadata": {
            "tags": []
          }
        },
        {
          "output_type": "stream",
          "text": [
            "/usr/local/lib/python3.7/dist-packages/torch/utils/data/dataloader.py:477: UserWarning: This DataLoader will create 4 worker processes in total. Our suggested max number of worker in current system is 2, which is smaller than what this DataLoader is going to create. Please be aware that excessive worker creation might get DataLoader running slow or even freeze, lower the worker number to avoid potential slowness/freeze if necessary.\n",
            "  cpuset_checked))\n"
          ],
          "name": "stderr"
        },
        {
          "output_type": "stream",
          "text": [
            "epoch : 1/20, loss = 0.065633\n",
            "epoch : 2/20, loss = 0.047258\n",
            "epoch : 3/20, loss = 0.035839\n",
            "epoch : 4/20, loss = 0.028350\n",
            "epoch : 5/20, loss = 0.023911\n",
            "epoch : 6/20, loss = 0.020438\n",
            "epoch : 7/20, loss = 0.017939\n",
            "epoch : 8/20, loss = 0.015933\n",
            "epoch : 9/20, loss = 0.014323\n",
            "epoch : 10/20, loss = 0.013047\n",
            "epoch : 11/20, loss = 0.012073\n",
            "epoch : 12/20, loss = 0.011294\n",
            "epoch : 13/20, loss = 0.010623\n",
            "epoch : 14/20, loss = 0.010033\n",
            "epoch : 15/20, loss = 0.009512\n",
            "epoch : 16/20, loss = 0.009037\n",
            "epoch : 17/20, loss = 0.008614\n",
            "epoch : 18/20, loss = 0.008237\n",
            "epoch : 19/20, loss = 0.007895\n",
            "epoch : 20/20, loss = 0.007585\n",
            "\n"
          ],
          "name": "stdout"
        }
      ]
    },
    {
      "cell_type": "markdown",
      "metadata": {
        "id": "7b75lTSI5KpD"
      },
      "source": [
        "Using Binary Cross Entropy"
      ]
    },
    {
      "cell_type": "code",
      "metadata": {
        "colab": {
          "base_uri": "https://localhost:8080/",
          "height": 491,
          "referenced_widgets": [
            "07e27702469a460a96750991bfcd47fc",
            "3713803018814391b69ed5dbb33c3618",
            "c8566aedfdc14bfdb2b52dc08457903a",
            "28fa226d18c94bf4b0512440f6d465ac",
            "38034927088942058fc6cdedd3500145",
            "ebddc0f7b29a47d5ab86cf895236f5cd",
            "db6417635df44fea8ac623b14e24f5e6",
            "6b576e4a345d4de29f349e459bf17d20"
          ]
        },
        "id": "JCYvivhV9eW9",
        "outputId": "d6feaf69-f58d-4828-993a-25dd8a8e9154"
      },
      "source": [
        "train_autoencoder(model, optimizer, 20, 'bce');"
      ],
      "execution_count": null,
      "outputs": [
        {
          "output_type": "display_data",
          "data": {
            "application/vnd.jupyter.widget-view+json": {
              "model_id": "07e27702469a460a96750991bfcd47fc",
              "version_minor": 0,
              "version_major": 2
            },
            "text/plain": [
              "HBox(children=(FloatProgress(value=0.0, max=20.0), HTML(value='')))"
            ]
          },
          "metadata": {
            "tags": []
          }
        },
        {
          "output_type": "stream",
          "text": [
            "/usr/local/lib/python3.7/dist-packages/torch/utils/data/dataloader.py:477: UserWarning: This DataLoader will create 4 worker processes in total. Our suggested max number of worker in current system is 2, which is smaller than what this DataLoader is going to create. Please be aware that excessive worker creation might get DataLoader running slow or even freeze, lower the worker number to avoid potential slowness/freeze if necessary.\n",
            "  cpuset_checked))\n"
          ],
          "name": "stderr"
        },
        {
          "output_type": "stream",
          "text": [
            "epoch : 1/20, loss = 0.258656\n",
            "epoch : 2/20, loss = 0.213268\n",
            "epoch : 3/20, loss = 0.172546\n",
            "epoch : 4/20, loss = 0.152603\n",
            "epoch : 5/20, loss = 0.137841\n",
            "epoch : 6/20, loss = 0.125804\n",
            "epoch : 7/20, loss = 0.117286\n",
            "epoch : 8/20, loss = 0.111140\n",
            "epoch : 9/20, loss = 0.105993\n",
            "epoch : 10/20, loss = 0.101597\n",
            "epoch : 11/20, loss = 0.098192\n",
            "epoch : 12/20, loss = 0.095499\n",
            "epoch : 13/20, loss = 0.093327\n",
            "epoch : 14/20, loss = 0.091504\n",
            "epoch : 15/20, loss = 0.089868\n",
            "epoch : 16/20, loss = 0.088395\n",
            "epoch : 17/20, loss = 0.087108\n",
            "epoch : 18/20, loss = 0.086032\n",
            "epoch : 19/20, loss = 0.085041\n",
            "epoch : 20/20, loss = 0.084159\n",
            "\n"
          ],
          "name": "stdout"
        }
      ]
    },
    {
      "cell_type": "markdown",
      "metadata": {
        "id": "zqknaK7T5wnT"
      },
      "source": [
        "Reference: [Implementing an Autoencoder in PyTorch - Abien Fred Agarap(2020, Jan 26)](https://medium.com/pytorch/implementing-an-autoencoder-in-pytorch-19baa22647d1)"
      ]
    }
  ]
}